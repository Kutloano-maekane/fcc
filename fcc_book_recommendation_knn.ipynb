{
  "cells": [
    {
      "cell_type": "code",
      "execution_count": null,
      "metadata": {
        "id": "Y1onB6kUvo4Z"
      },
      "outputs": [],
      "source": [
        "# import libraries (you may add additional imports but you may not have to)\n",
        "import numpy as np\n",
        "import pandas as pd\n",
        "from scipy.sparse import csr_matrix\n",
        "from sklearn.neighbors import NearestNeighbors\n",
        "import matplotlib.pyplot as plt"
      ]
    },
    {
      "cell_type": "code",
      "execution_count": null,
      "metadata": {
        "id": "iAQGqqO_vo4d"
      },
      "outputs": [],
      "source": [
        "# get data files\n",
        "!wget https://cdn.freecodecamp.org/project-data/books/book-crossings.zip\n",
        "\n",
        "!unzip book-crossings.zip\n",
        "\n",
        "books_filename = 'BX-Books.csv'\n",
        "ratings_filename = 'BX-Book-Ratings.csv'"
      ]
    },
    {
      "cell_type": "code",
      "execution_count": null,
      "metadata": {
        "id": "NClILWOiEd6Q"
      },
      "outputs": [],
      "source": [
        "# import csv data into dataframes\n",
        "df_books = pd.read_csv(\n",
        "    books_filename,\n",
        "    encoding = \"ISO-8859-1\",\n",
        "    sep=\";\",\n",
        "    header=0,\n",
        "    names=['isbn', 'title', 'author'],\n",
        "    usecols=['isbn', 'title', 'author'],\n",
        "    dtype={'isbn': 'str', 'title': 'str', 'author': 'str'})\n",
        "\n",
        "df_ratings = pd.read_csv(\n",
        "    ratings_filename,\n",
        "    encoding = \"ISO-8859-1\",\n",
        "    sep=\";\",\n",
        "    header=0,\n",
        "    names=['user', 'isbn', 'rating'],\n",
        "    usecols=['user', 'isbn', 'rating'],\n",
        "    dtype={'user': 'int32', 'isbn': 'str', 'rating': 'float32'})"
      ]
    },
    {
      "cell_type": "code",
      "execution_count": null,
      "metadata": {
        "id": "xAcXjkCFCh0A"
      },
      "outputs": [],
      "source": [
        "# Get users with ≥200 ratings (from full dataset)\n",
        "user_count = df_ratings['user'].value_counts()\n",
        "filtered_users = user_count[user_count >= 200]\n",
        "\n",
        "# Get books with ≥100 ratings (from full dataset)\n",
        "book_count = df_ratings['isbn'].value_counts()\n",
        "filtered_books = book_count[book_count >= 100]\n",
        "\n",
        "# Apply both filters to get final dataset\n",
        "filtered_ratings = df_ratings[\n",
        "    (df_ratings['user'].isin(filtered_users.index)) &\n",
        "    (df_ratings['isbn'].isin(filtered_books.index))\n",
        "]\n",
        "\n",
        "filtered_ratings"
      ]
    },
    {
      "cell_type": "code",
      "source": [
        "ratings_with_titles = filtered_ratings.merge(df_books, on='isbn')\n",
        "\n",
        "user_book_matrix = ratings_with_titles.pivot_table(index='title', columns='user', values='rating').fillna(0)\n",
        "\n",
        "model = NearestNeighbors(metric='cosine', algorithm='brute')\n",
        "model.fit(user_book_matrix.values)\n",
        "book_to_index = pd.Series(data=range(len(user_book_matrix)), index=user_book_matrix.index)"
      ],
      "metadata": {
        "id": "VS3XNOH3x05J"
      },
      "execution_count": null,
      "outputs": []
    },
    {
      "cell_type": "code",
      "execution_count": null,
      "metadata": {
        "id": "f5ZUd-L1SQz7"
      },
      "outputs": [],
      "source": [
        "# function to return recommended books - this will be tested\n",
        "def get_recommends(book_title):\n",
        "    # Check if title exists\n",
        "    if book_title not in book_to_index:\n",
        "        return [book_title, []]\n",
        "\n",
        "    book_idx = book_to_index[book_title]\n",
        "    book_vector = user_book_matrix.iloc[book_idx].values.reshape(1, -1)\n",
        "\n",
        "    # Get top 6 (first one is itself)\n",
        "    distances, indices = model.kneighbors(book_vector, n_neighbors=6)\n",
        "\n",
        "    # Format output\n",
        "    recommendations = []\n",
        "    for i in range(1, len(indices[0])):\n",
        "        similar_book = user_book_matrix.index[indices[0][i]]\n",
        "        distance = float(distances[0][i])\n",
        "        recommendations.append([similar_book, distance])\n",
        "\n",
        "    return [book_title, recommendations]\n"
      ]
    },
    {
      "cell_type": "code",
      "execution_count": null,
      "metadata": {
        "id": "jd2SLCh8oxMh"
      },
      "outputs": [],
      "source": [
        "books = get_recommends(\"Where the Heart Is (Oprah's Book Club (Paperback))\")\n",
        "print(books)\n",
        "\n",
        "def test_book_recommendation():\n",
        "  test_pass = True\n",
        "  recommends = get_recommends(\"Where the Heart Is (Oprah's Book Club (Paperback))\")\n",
        "  if recommends[0] != \"Where the Heart Is (Oprah's Book Club (Paperback))\":\n",
        "    test_pass = False\n",
        "  recommended_books = [\"I'll Be Seeing You\", 'The Weight of Water', 'The Surgeon', 'I Know This Much Is True']\n",
        "  recommended_books_dist = [0.8, 0.77, 0.77, 0.77]\n",
        "  for i in range(2):\n",
        "    if recommends[1][i][0] not in recommended_books:\n",
        "      test_pass = False\n",
        "    if abs(recommends[1][i][1] - recommended_books_dist[i]) >= 0.05:\n",
        "      test_pass = False\n",
        "  if test_pass:\n",
        "    print(\"You passed the challenge! 🎉🎉🎉🎉🎉\")\n",
        "  else:\n",
        "    print(\"You haven't passed yet. Keep trying!\")\n",
        "\n",
        "test_book_recommendation()"
      ]
    }
  ],
  "metadata": {
    "colab": {
      "name": "fcc_book_recommendation_knn.ipynb",
      "provenance": []
    },
    "kernelspec": {
      "display_name": "Python 3",
      "language": "python",
      "name": "python3"
    },
    "language_info": {
      "codemirror_mode": {
        "name": "ipython",
        "version": 3
      },
      "file_extension": ".py",
      "mimetype": "text/x-python",
      "name": "python",
      "nbconvert_exporter": "python",
      "pygments_lexer": "ipython3",
      "version": "3.6.5"
    }
  },
  "nbformat": 4,
  "nbformat_minor": 0
}